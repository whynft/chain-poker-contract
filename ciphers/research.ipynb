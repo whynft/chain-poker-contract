{
 "cells": [
  {
   "cell_type": "code",
   "execution_count": 69,
   "metadata": {},
   "outputs": [],
   "source": [
    "def pwr(x: int, power: int, modulo: int) -> int:\n",
    "    '''\n",
    "        calc x ^ power % modulo\n",
    "    '''\n",
    "    if power == 0:\n",
    "        return 1\n",
    "    if power % 2 == 1:\n",
    "        res = pwr(x, power - 1, modulo) * x\n",
    "        return res % modulo\n",
    "    res = pwr(x, power // 2, modulo)\n",
    "    res *= res\n",
    "    return res % modulo\n",
    "\n",
    "\n",
    "def gcd_ext(x: int, y: int):\n",
    "    '''\n",
    "        calc greatest common divisor, also return a, b such that x * a + b * y = gcd(x,y)\n",
    "    '''\n",
    "    if x == 0:\n",
    "        return y, 0, 1\n",
    "    d, a1, b1 = gcd_ext(y % x, x)\n",
    "    a = b1 - (y // x) * a1\n",
    "    b = a1\n",
    "    return d, a, b\n",
    "\n",
    "def inverse(x: int, modulo: int):\n",
    "    '''\n",
    "        find y such that x * y % modulo = 1\n",
    "        make sure that gcd(x, modulo) = 1\n",
    "    '''\n",
    "    d, a, b = gcd_ext(x, modulo)\n",
    "    assert d == 1, d\n",
    "    a %= modulo\n",
    "    assert 0 <= a < modulo, a\n",
    "    return a"
   ]
  },
  {
   "cell_type": "code",
   "execution_count": 48,
   "metadata": {},
   "outputs": [
    {
     "data": {
      "text/plain": [
       "(6, -1, 1)"
      ]
     },
     "execution_count": 48,
     "metadata": {},
     "output_type": "execute_result"
    }
   ],
   "source": [
    "gcd_ext(12, 18)"
   ]
  },
  {
   "cell_type": "code",
   "execution_count": 49,
   "metadata": {},
   "outputs": [
    {
     "data": {
      "text/plain": [
       "8"
      ]
     },
     "execution_count": 49,
     "metadata": {},
     "output_type": "execute_result"
    }
   ],
   "source": [
    "pwr(2, 3, 12)"
   ]
  },
  {
   "cell_type": "code",
   "execution_count": 50,
   "metadata": {},
   "outputs": [],
   "source": [
    "assert (inverse(7, 114) * 7) % 114 == 1"
   ]
  },
  {
   "cell_type": "code",
   "execution_count": 72,
   "metadata": {},
   "outputs": [],
   "source": [
    "MODULO = 1006003  # <- is prime"
   ]
  },
  {
   "cell_type": "code",
   "execution_count": 73,
   "metadata": {},
   "outputs": [
    {
     "data": {
      "text/plain": [
       "(482873, 1003436)"
      ]
     },
     "execution_count": 73,
     "metadata": {},
     "output_type": "execute_result"
    }
   ],
   "source": [
    "cipher(3), cipher(4)"
   ]
  },
  {
   "cell_type": "code",
   "execution_count": 74,
   "metadata": {},
   "outputs": [
    {
     "data": {
      "text/plain": [
       "(3, 4)"
      ]
     },
     "execution_count": 74,
     "metadata": {},
     "output_type": "execute_result"
    }
   ],
   "source": [
    "decipher(cipher(3)), decipher(cipher(4))"
   ]
  },
  {
   "cell_type": "code",
   "execution_count": 91,
   "metadata": {},
   "outputs": [],
   "source": [
    "class PowerCipher:\n",
    "    '''\n",
    "        Cipher is based on property that it's too hard to find power in equasion: (a ^ power) % modulo = b\n",
    "        when a,b,modulo are known\n",
    "        so power is kind of private key\n",
    "    '''\n",
    "    def __init__(self, power: int, prime_modulo: int):\n",
    "        self._power = power\n",
    "        self._prime_modulo = prime_modulo  # here we won't check if modulo is prime, make it sure yourself\n",
    "        # it's necessary property to find inverse power that gcd(power, prime_modulo - 1) = 1, it will be checked in next line\n",
    "        self._inv_power = inverse(power, prime_modulo - 1)  # since Euler_function(prime_modulo) = prime_modulo - 1\n",
    "        \n",
    "    def cipher(self, msg: int):\n",
    "        assert 1 < msg < MODULO\n",
    "        return pwr(msg, self._power, self._prime_modulo)\n",
    "    \n",
    "    def decipher(self, msg: int):\n",
    "        assert 1 < msg < MODULO\n",
    "        return pwr(msg, self._inv_power, self._prime_modulo)"
   ]
  },
  {
   "cell_type": "code",
   "execution_count": 92,
   "metadata": {},
   "outputs": [],
   "source": [
    "private1 = 1001\n",
    "private2 = 725\n",
    "\n",
    "c1 = PowerCipher(private1, MODULO)\n",
    "c2 = PowerCipher(private2, MODULO)\n",
    "\n",
    "for i in range(2, 2 + 52):\n",
    "    assert i == c1.decipher(c1.cipher(i))\n",
    "    assert i == c2.decipher(c2.cipher(i))\n",
    "    assert c1.cipher(c2.cipher(i)) == c2.cipher(c1.cipher(i))"
   ]
  },
  {
   "cell_type": "code",
   "execution_count": 94,
   "metadata": {},
   "outputs": [
    {
     "name": "stdout",
     "output_type": "stream",
     "text": [
      "0 745605 627162 587285\n",
      "1 830045 249324 887857\n",
      "2 504198 91289 572690\n",
      "3 839855 527515 74140\n",
      "4 704649 474189 665306\n",
      "5 467650 799960 916760\n",
      "6 294723 355085 293675\n",
      "7 469436 525603 185691\n",
      "8 441886 197841 494057\n",
      "9 555984 244735 788218\n",
      "10 726883 726764 717034\n",
      "11 173804 737356 639227\n",
      "12 532447 757390 675042\n",
      "13 622604 335649 929684\n",
      "14 677110 958672 762052\n",
      "15 262062 554254 589663\n",
      "16 235005 219673 801729\n",
      "17 128648 114250 317271\n",
      "18 392512 965231 879985\n",
      "19 262688 78263 792038\n",
      "20 794110 602354 351692\n",
      "21 542485 658142 422391\n",
      "22 585016 936534 516920\n",
      "23 435584 579392 945211\n",
      "24 854975 192626 301191\n",
      "25 880639 473583 264538\n",
      "26 205557 784667 402742\n",
      "27 214413 447181 525639\n",
      "28 595082 170388 453747\n",
      "29 555854 973156 458389\n",
      "30 32018 931902 148207\n",
      "31 941069 203178 893882\n",
      "32 786826 818552 804256\n",
      "33 535508 808984 5711\n",
      "34 330500 459182 813666\n",
      "35 699395 752251 366455\n",
      "36 217996 694825 647587\n",
      "37 286968 541115 544074\n",
      "38 565024 941193 141571\n",
      "39 260876 186430 217637\n",
      "40 750164 693236 393702\n",
      "41 719963 811628 503330\n",
      "42 266873 298791 960290\n",
      "43 566065 991721 985688\n",
      "44 932230 634110 660686\n",
      "45 644067 546827 163931\n",
      "46 25916 666949 854899\n",
      "47 524327 391249 793301\n",
      "48 629815 337892 816750\n",
      "49 254115 228204 388955\n",
      "50 719868 831154 454948\n",
      "51 256806 323800 494410\n"
     ]
    }
   ],
   "source": [
    "for i in range(52):\n",
    "    p1 = c1.cipher(i + 2)\n",
    "    p21 = c2.cipher(p1)\n",
    "    pm121 = c1.decipher(p21)\n",
    "    print(i, p1, p21, pm121)"
   ]
  },
  {
   "cell_type": "code",
   "execution_count": null,
   "metadata": {},
   "outputs": [],
   "source": []
  }
 ],
 "metadata": {
  "kernelspec": {
   "display_name": "Python 3",
   "language": "python",
   "name": "python3"
  },
  "language_info": {
   "codemirror_mode": {
    "name": "ipython",
    "version": 3
   },
   "file_extension": ".py",
   "mimetype": "text/x-python",
   "name": "python",
   "nbconvert_exporter": "python",
   "pygments_lexer": "ipython3",
   "version": "3.7.9"
  }
 },
 "nbformat": 4,
 "nbformat_minor": 4
}
